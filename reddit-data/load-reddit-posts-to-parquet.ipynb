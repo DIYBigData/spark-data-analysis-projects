{
 "cells": [
  {
   "cell_type": "markdown",
   "metadata": {},
   "source": [
    "# Load Reddit Submissions in to Parquet\n",
    "\n",
    "The raw data was pulled from [pushshift.io](https://files.pushshift.io/reddit/submissions/)."
   ]
  },
  {
   "cell_type": "code",
   "execution_count": null,
   "metadata": {
    "ExecuteTime": {
     "end_time": "2022-09-15T14:39:59.203555Z",
     "start_time": "2022-09-15T14:39:57.940891Z"
    }
   },
   "outputs": [],
   "source": [
    "import pyspark.sql.functions as F\n",
    "import pyspark.sql.types as T\n",
    "import pyspark.sql.utils as U\n",
    "from pyspark.sql.window import Window as W\n",
    "\n",
    "import pandas as pd\n",
    "\n",
    "pd.set_option('display.max_colwidth', None)\n",
    "\n",
    "spark = SparkSession\\\n",
    "        .builder\\\n",
    "        .appName(\"RedditPostsLoadToParquet\")\\\n",
    "        .getOrCreate()"
   ]
  },
  {
   "cell_type": "code",
   "execution_count": null,
   "metadata": {
    "ExecuteTime": {
     "end_time": "2022-09-15T15:03:57.158114Z",
     "start_time": "2022-09-15T14:40:07.942034Z"
    }
   },
   "outputs": [],
   "source": [
    "year_range = range(2022,2023)\n",
    "\n",
    "json_schema = T.StructType([\n",
    "    T.StructField(\"author\", T.StringType()),\n",
    "    T.StructField(\"created_utc\", T.LongType()),\n",
    "    T.StructField(\"domain\", T.StringType()),\n",
    "    T.StructField(\"edited\", T.BooleanType()),\n",
    "    T.StructField(\"id\", T.StringType()),\n",
    "    T.StructField(\"is_crosspostable\", T.BooleanType()),\n",
    "    T.StructField(\"is_self\", T.BooleanType()),\n",
    "    T.StructField(\"is_video\", T.BooleanType()),\n",
    "    T.StructField(\"num_comments\", T.LongType()),\n",
    "    T.StructField(\"num_crossposts\", T.LongType()),\n",
    "    T.StructField(\"over_18\", T.BooleanType()),\n",
    "    T.StructField(\"permalink\", T.StringType()),\n",
    "    T.StructField(\"promoted\", T.BooleanType()),\n",
    "    T.StructField(\"score\", T.LongType()),\n",
    "    T.StructField(\"selftext\", T.StringType()),\n",
    "    T.StructField(\"spam\", T.BooleanType()),\n",
    "    T.StructField(\"stickied\", T.BooleanType()),\n",
    "    T.StructField(\"subreddit\", T.StringType()),\n",
    "    T.StructField(\"subreddit_id\", T.StringType()),\n",
    "    T.StructField(\"thumbnail\", T.StringType()),\n",
    "    T.StructField(\"title\", T.StringType()),\n",
    "    T.StructField(\"ups\", T.StringType()),\n",
    "    T.StructField(\"url\", T.StringType()),    \n",
    "])\n",
    "\n",
    "def has_column(df, col_name):\n",
    "    if col_name in df.columns:\n",
    "        return F.lit(True)\n",
    "    else:\n",
    "        return F.lit(False)\n",
    "\n",
    "for year in year_range:\n",
    "    print('Processing submissions date for year {0}'.format(year))\n",
    "    file_pattern = 'qfs:///data/reddit/submissions/raw/RS_*{0}-*.bz2'.format(year)\n",
    "    submissions_raw = (\n",
    "            spark.read.json(\n",
    "            file_pattern,\n",
    "            encoding='utf-8',\n",
    "            schema=json_schema,\n",
    "        )\n",
    "    )\n",
    "    df = (\n",
    "        submissions_raw\n",
    "        .withColumn(\n",
    "            'created_date',\n",
    "            F.from_unixtime(F.col('created_utc'), 'yyyy-MM-dd')\n",
    "        )\n",
    "        .withColumn(\n",
    "            'month',\n",
    "            F.from_unixtime(F.col('created_utc'), 'MM')\n",
    "        )\n",
    "        .withColumn(\n",
    "            'day',\n",
    "            F.from_unixtime(F.col('created_utc'), 'dd')\n",
    "        )\n",
    "        .withColumn(\n",
    "            'created_date',\n",
    "             F.from_unixtime(F.col('created_utc'), 'dd')\n",
    "        )\n",
    "    )        \n",
    "    df.write.partitionBy(\n",
    "            'month', 'day'\n",
    "        ).parquet(\n",
    "            'qfs:///data/reddit/submissions/processed/year={0}/'.format(year),\n",
    "            mode='overwrite'\n",
    "        )\n",
    "\n",
    " "
   ]
  },
  {
   "cell_type": "code",
   "execution_count": null,
   "metadata": {
    "ExecuteTime": {
     "end_time": "2022-09-15T15:04:21.681074Z",
     "start_time": "2022-09-15T15:03:57.161435Z"
    }
   },
   "outputs": [],
   "source": [
    "submissions_df = spark.read.parquet('qfs:///data/reddit/submissions/processed/')"
   ]
  },
  {
   "cell_type": "code",
   "execution_count": null,
   "metadata": {
    "ExecuteTime": {
     "end_time": "2022-09-15T15:04:21.695868Z",
     "start_time": "2022-09-15T15:04:21.683797Z"
    }
   },
   "outputs": [],
   "source": [
    "submissions_df.printSchema()"
   ]
  },
  {
   "cell_type": "code",
   "execution_count": null,
   "metadata": {
    "ExecuteTime": {
     "end_time": "2022-07-29T10:08:18.918367Z",
     "start_time": "2022-07-29T10:08:07.636296Z"
    }
   },
   "outputs": [],
   "source": [
    "submissions_df.count()"
   ]
  },
  {
   "cell_type": "code",
   "execution_count": null,
   "metadata": {
    "ExecuteTime": {
     "end_time": "2022-09-15T15:04:31.142038Z",
     "start_time": "2022-09-15T15:04:21.698757Z"
    }
   },
   "outputs": [],
   "source": [
    "submissions_df.count()"
   ]
  },
  {
   "cell_type": "code",
   "execution_count": null,
   "metadata": {
    "ExecuteTime": {
     "end_time": "2022-09-15T16:04:57.119540Z",
     "start_time": "2022-09-15T15:56:36.679141Z"
    }
   },
   "outputs": [],
   "source": [
    "submissions_df.filter('author = \"MichaelKamprath\"').toPandas()"
   ]
  },
  {
   "cell_type": "code",
   "execution_count": null,
   "metadata": {
    "ExecuteTime": {
     "end_time": "2022-09-15T15:12:50.759818Z",
     "start_time": "2022-09-15T15:12:50.224480Z"
    },
    "code_folding": [
     14
    ]
   },
   "outputs": [],
   "source": [
    "import matplotlib.pyplot as plt\n",
    "import numpy as np\n",
    "import pandas as pd\n",
    "from pandas.plotting import register_matplotlib_converters\n",
    "\n",
    "register_matplotlib_converters()\n",
    "pd.set_option('display.max_colwidth', None)\n",
    "\n",
    "def plot_line_graph(\n",
    "    df,\n",
    "    y_axis_column,\n",
    "    x_axis_column,\n",
    "    segment_column=None,\n",
    "    segment_values=None, # a list of values from segment_column to be graphed\n",
    "    segment_labels=None, # a dictionary with segment_values as key and name a value\n",
    "    xlabel=None,\n",
    "    ylabel=None,\n",
    "    line_width=2,\n",
    "    xlabel_rotation=None,\n",
    "    x_axis_is_dates=True,\n",
    "    y_axis_log_scale=False,\n",
    "    title=None,\n",
    "    legend_location='lower left',\n",
    "):\n",
    "    df_pd = df.toPandas()\n",
    "    fig, ax = plt.subplots()\n",
    "\n",
    "    if segment_column is None:\n",
    "        x_axis_values = df_pd[x_axis_column]\n",
    "        if ylabel is None:\n",
    "            item_label = y_axis_column\n",
    "        else: \n",
    "            item_label = ylabel\n",
    "        if x_axis_is_dates:\n",
    "            ax.plot_date(\n",
    "                x_axis_values,\n",
    "                df_pd[y_axis_column],\n",
    "                '-',\n",
    "                linewidth = line_width,\n",
    "                label = item_label,\n",
    "            )\n",
    "        else:\n",
    "            ax.plot(\n",
    "                x_axis_values,\n",
    "                df_pd[y_axis_column],\n",
    "                label = item_label,\n",
    "                linewidth = line_width,\n",
    "            )        \n",
    "    else:\n",
    "        if segment_values is None:\n",
    "            segment_value_list = [r.val for r in df.select(F.col(segment_column).alias('val')).distinct().collect()]\n",
    "        else:\n",
    "            segment_value_list = segment_values\n",
    "        for i in segment_value_list:\n",
    "            data = df_pd[df_pd[segment_column] == i]\n",
    "            x_axis_values = data[x_axis_column]\n",
    "            if segment_labels is not None:\n",
    "                item_label = segment_labels[i]\n",
    "            else:\n",
    "                item_label = \"{0}\".format(i)\n",
    "            \n",
    "            if x_axis_is_dates:\n",
    "                ax.plot_date(\n",
    "                    x_axis_values,\n",
    "                    data[y_axis_column],\n",
    "                    '-',\n",
    "                    linewidth = line_width,\n",
    "                    label = item_label,\n",
    "                )                \n",
    "            else:\n",
    "                ax.plot(\n",
    "                    x_axis_values,\n",
    "                    data[y_axis_column],\n",
    "                    label = item_label,\n",
    "                    linewidth = line_width\n",
    "                )\n",
    "    \n",
    "    fig.set_size_inches(20,12)\n",
    "    if xlabel is not None:\n",
    "        plt.xlabel(xlabel)\n",
    "    if ylabel is not None:\n",
    "        plt.ylabel(ylabel)\n",
    "    if xlabel_rotation is not None:\n",
    "        plt.xticks(rotation=xlabel_rotation)\n",
    "    if x_axis_is_dates:\n",
    "        fig.autofmt_xdate()\n",
    "    if y_axis_log_scale:\n",
    "        plt.grid()\n",
    "        plt.yscale(\"log\")\n",
    "    if title is not None:\n",
    "        fig.suptitle(title, fontsize=18)\n",
    "    ax.legend(loc=legend_location)\n",
    "    plt.show()"
   ]
  },
  {
   "cell_type": "code",
   "execution_count": null,
   "metadata": {
    "ExecuteTime": {
     "end_time": "2022-09-15T15:12:50.923459Z",
     "start_time": "2022-09-15T15:12:50.762273Z"
    }
   },
   "outputs": [],
   "source": [
    "monthly_submissions = (\n",
    "        submissions_df\n",
    "        .withColumn(\n",
    "            'year_month', \n",
    "            F.to_date(\n",
    "                F.format_string('%4d-%02d', F.col('year'), F.col('month')),\n",
    "                format='yyyy-MM'\n",
    "            )          \n",
    "        )\n",
    "        .groupBy('year_month')\n",
    "        .agg(\n",
    "            F.count('*').alias('count'),\n",
    "            F.countDistinct('author').alias('authors')\n",
    "        )\n",
    "        .orderBy(F.col('year_month'))\n",
    "    ).cache()"
   ]
  },
  {
   "cell_type": "code",
   "execution_count": null,
   "metadata": {
    "ExecuteTime": {
     "end_time": "2022-07-04T10:53:25.010451Z",
     "start_time": "2022-07-04T10:53:24.767770Z"
    }
   },
   "outputs": [],
   "source": [
    "(\n",
    "    submissions_df\n",
    "    .filter(F.col('month').isNull())\n",
    "    .select(\n",
    "        'author',\n",
    "        'subreddit_id',\n",
    "        'permalink',\n",
    "        'selftext',\n",
    "        'created_utc',\n",
    "        'created_date',\n",
    "        'year',\n",
    "        'month',\n",
    "        'day',\n",
    "    )\n",
    ").limit(20).toPandas()"
   ]
  },
  {
   "cell_type": "code",
   "execution_count": null,
   "metadata": {
    "ExecuteTime": {
     "end_time": "2022-07-04T10:53:25.514523Z",
     "start_time": "2022-07-04T10:53:25.012170Z"
    }
   },
   "outputs": [],
   "source": [
    "submissions_df.filter(F.col('month').isNull()).groupBy('year').agg(F.count('*').alias('count')).toPandas()"
   ]
  },
  {
   "cell_type": "code",
   "execution_count": null,
   "metadata": {
    "ExecuteTime": {
     "end_time": "2022-07-04T10:56:48.296261Z",
     "start_time": "2022-07-04T10:53:25.517524Z"
    }
   },
   "outputs": [],
   "source": [
    "monthly_submissions.orderBy(F.col('year_month')).limit(20).toPandas()"
   ]
  },
  {
   "cell_type": "code",
   "execution_count": null,
   "metadata": {
    "ExecuteTime": {
     "end_time": "2022-08-12T17:37:04.642659Z",
     "start_time": "2022-08-12T17:37:04.010513Z"
    }
   },
   "outputs": [],
   "source": [
    "plot_line_graph(\n",
    "    monthly_submissions,\n",
    "    'authors',\n",
    "    'year_month',\n",
    "    xlabel='Date',\n",
    "    ylabel='Authors',\n",
    ")"
   ]
  },
  {
   "cell_type": "code",
   "execution_count": null,
   "metadata": {},
   "outputs": [],
   "source": []
  }
 ],
 "metadata": {
  "kernelspec": {
   "display_name": "Python 3 (ipykernel)",
   "language": "python",
   "name": "python3"
  },
  "language_info": {
   "codemirror_mode": {
    "name": "ipython",
    "version": 3
   },
   "file_extension": ".py",
   "mimetype": "text/x-python",
   "name": "python",
   "nbconvert_exporter": "python",
   "pygments_lexer": "ipython3",
   "version": "3.7.9"
  },
  "toc": {
   "base_numbering": 1,
   "nav_menu": {},
   "number_sections": true,
   "sideBar": true,
   "skip_h1_title": false,
   "title_cell": "Table of Contents",
   "title_sidebar": "Contents",
   "toc_cell": false,
   "toc_position": {},
   "toc_section_display": true,
   "toc_window_display": false
  }
 },
 "nbformat": 4,
 "nbformat_minor": 4
}
